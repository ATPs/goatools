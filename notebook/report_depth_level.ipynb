{
 "cells": [
  {
   "cell_type": "markdown",
   "metadata": {},
   "source": [
    "# Report counts of GO terms at various levels and depths\n",
    "\n",
    "Reports the number of GO terms at each level and depth. \n",
    "\n",
    "GO terms reported can be all GO terms in an ontology.     \n",
    "Or subsets of GO terms can be reported.     \n",
    "GO subset examples include all GO terms annotated for a species or all GO terms in a study.\n",
    "\n",
    "Example report on full Ontology from Ontologies downloaded March 1, 2016.\n",
    "```\n",
    "Dep <-Depth Counts->  <-Level Counts->\n",
    "Lev   BP    MF    CC    BP    MF    CC\n",
    "--- ----  ----  ----  ----  ----  ----\n",
    "00     1     1     1     1     1     1\n",
    "01    24    19    24    24    19    24\n",
    "02   126   131   195   222   154   336\n",
    "03   955   493   502  1913   739  1145\n",
    "04  1950  1464   566  4506  1812  1300\n",
    "05  3371  3765   994  6958  3985   763\n",
    "06  4275  1784   748  6945  1888   268\n",
    "07  4634  1005   549  4890   903    53\n",
    "08  4125   577   216  2022   352     6\n",
    "09  3478   315    86   739   109     1\n",
    "10  2364   164    12   188    38     0\n",
    "11  1583   170     3    37    21     0\n",
    "12  1014    68     1     1     0     0\n",
    "13   400    49     0     0     0     0\n",
    "14   107    13     0     0     0     0\n",
    "15    28     3     0     0     0     0\n",
    "16    11     0     0     0     0     0\n",
    "```"
   ]
  },
  {
   "cell_type": "markdown",
   "metadata": {},
   "source": [
    "## 1. Download Ontologies, if necessary"
   ]
  },
  {
   "cell_type": "code",
   "execution_count": 7,
   "metadata": {
    "collapsed": true
   },
   "outputs": [],
   "source": [
    "from __future__ import print_function\n",
    "import os\n",
    "import wget\n",
    "\n",
    "if not os.path.exists(\"go-basic.obo\"):\n",
    "    wget.download(\"http://geneontology.org/ontology/go-basic.obo\")"
   ]
  },
  {
   "cell_type": "markdown",
   "metadata": {},
   "source": [
    "## 2. Download Associations, if necessary"
   ]
  },
  {
   "cell_type": "code",
   "execution_count": 8,
   "metadata": {
    "collapsed": true
   },
   "outputs": [],
   "source": [
    "\"\"\"Download GO associations for NCBI Entrez GeneIDs\"\"\"\n",
    "import os\n",
    "\n",
    "# Download associations if they are not present\n",
    "if not os.path.isfile(\"gene2go\"):\n",
    "    import wget\n",
    "    wget.download(\"ftp://ftp.ncbi.nlm.nih.gov/gene/DATA/gene2go.gz\")\n",
    "\n",
    "    import gzip\n",
    "    with gzip.open(\"gene2go.gz\", 'rb') as zstrm:\n",
    "        with  open(\"gene2go\", 'w') as ostrm:\n",
    "            ostrm.write(zstrm.read())\n",
    "    os.remove(\"gene2go.gz\")"
   ]
  },
  {
   "cell_type": "markdown",
   "metadata": {},
   "source": [
    "## 3. Initialize GODag object"
   ]
  },
  {
   "cell_type": "code",
   "execution_count": 9,
   "metadata": {
    "collapsed": false
   },
   "outputs": [
    {
     "name": "stderr",
     "output_type": "stream",
     "text": [
      "load obo file go-basic.obo\n",
      "46162"
     ]
    },
    {
     "name": "stdout",
     "output_type": "stream",
     "text": [
      "go-basic.obo: format-version(1.2) data-version(releases/2016-03-01)\n"
     ]
    },
    {
     "name": "stderr",
     "output_type": "stream",
     "text": [
      " nodes imported\n"
     ]
    }
   ],
   "source": [
    "from goatools.obo_parser import GODag\n",
    "\n",
    "obodag = GODag(\"go-basic.obo\")"
   ]
  },
  {
   "cell_type": "markdown",
   "metadata": {},
   "source": [
    "## 4. Initialize Reporter class"
   ]
  },
  {
   "cell_type": "code",
   "execution_count": 10,
   "metadata": {
    "collapsed": true
   },
   "outputs": [],
   "source": [
    "from goatools.rpt_lev_depth import RptLevDepth\n",
    "\n",
    "rptobj = RptLevDepth(obodag)"
   ]
  },
  {
   "cell_type": "markdown",
   "metadata": {},
   "source": [
    "## 5. Generate depth/level report for all GO terms"
   ]
  },
  {
   "cell_type": "code",
   "execution_count": 11,
   "metadata": {
    "collapsed": false
   },
   "outputs": [
    {
     "name": "stdout",
     "output_type": "stream",
     "text": [
      "Dep <-Depth Counts->  <-Level Counts->\n",
      "Lev   BP    MF    CC    BP    MF    CC\n",
      "--- ----  ----  ----  ----  ----  ----\n",
      "00     1     1     1     1     1     1\n",
      "01    24    19    24    24    19    24\n",
      "02   126   131   195   222   154   336\n",
      "03   955   493   502  1913   739  1145\n",
      "04  1950  1464   566  4506  1812  1300\n",
      "05  3371  3765   994  6958  3985   763\n",
      "06  4275  1784   748  6945  1888   268\n",
      "07  4634  1005   549  4890   903    53\n",
      "08  4125   577   216  2022   352     6\n",
      "09  3478   315    86   739   109     1\n",
      "10  2364   164    12   188    38     0\n",
      "11  1583   170     3    37    21     0\n",
      "12  1014    68     1     1     0     0\n",
      "13   400    49     0     0     0     0\n",
      "14   107    13     0     0     0     0\n",
      "15    28     3     0     0     0     0\n",
      "16    11     0     0     0     0     0\n"
     ]
    }
   ],
   "source": [
    "rptobj.write_summary_cnts_all()"
   ]
  },
  {
   "cell_type": "markdown",
   "metadata": {},
   "source": [
    "Copyright (C) 2016, DV Klopfenstein, H Tang. All rights reserved."
   ]
  }
 ],
 "metadata": {
  "kernelspec": {
   "display_name": "Python 2",
   "language": "python",
   "name": "python2"
  },
  "language_info": {
   "codemirror_mode": {
    "name": "ipython",
    "version": 2
   },
   "file_extension": ".py",
   "mimetype": "text/x-python",
   "name": "python",
   "nbconvert_exporter": "python",
   "pygments_lexer": "ipython2",
   "version": "2.7.11"
  }
 },
 "nbformat": 4,
 "nbformat_minor": 0
}
