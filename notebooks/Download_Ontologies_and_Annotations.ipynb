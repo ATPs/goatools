{
 "cells": [
  {
   "cell_type": "markdown",
   "metadata": {},
   "source": [
    "# Packages for Downloading Ontologies and Annotations"
   ]
  },
  {
   "cell_type": "markdown",
   "metadata": {},
   "source": [
    "## Import Python packages used when downloading files"
   ]
  },
  {
   "cell_type": "code",
   "execution_count": 1,
   "metadata": {
    "collapsed": true
   },
   "outputs": [],
   "source": [
    "import os\n",
    "import wget"
   ]
  },
  {
   "cell_type": "markdown",
   "metadata": {},
   "source": [
    "## Define function for downloading Ontologies"
   ]
  },
  {
   "cell_type": "code",
   "execution_count": 2,
   "metadata": {
    "collapsed": true
   },
   "outputs": [],
   "source": [
    "def download_obo_gobasic():\n",
    "    \"\"\"Download the Ontologies used in GOATOOLS from geneontology.org\"\"\"\n",
    "    if not os.path.exists(\"go-basic.obo\"):\n",
    "        wget.download(\"http://geneontology.org/ontology/go-basic.obo\")"
   ]
  },
  {
   "cell_type": "markdown",
   "metadata": {},
   "source": [
    "## Define function for downloading NCBI's gene2go"
   ]
  },
  {
   "cell_type": "code",
   "execution_count": 3,
   "metadata": {
    "collapsed": true
   },
   "outputs": [],
   "source": [
    "def download_ncbi_gene2go():\n",
    "    \"\"\"Download associations if they are not present\"\"\"\n",
    "    if not os.path.isfile(\"gene2go\"):\n",
    "        wget.download(\"ftp://ftp.ncbi.nlm.nih.gov/gene/DATA/gene2go.gz\")\n",
    "        import gzip\n",
    "        with gzip.open(\"gene2go.gz\", 'rb') as zstrm:\n",
    "            with  open(\"gene2go\", 'w') as ostrm:\n",
    "                ostrm.write(zstrm.read())\n",
    "        os.remove(\"gene2go.gz\")"
   ]
  }
 ],
 "metadata": {
  "kernelspec": {
   "display_name": "Python 2",
   "language": "python",
   "name": "python2"
  },
  "language_info": {
   "codemirror_mode": {
    "name": "ipython",
    "version": 2
   },
   "file_extension": ".py",
   "mimetype": "text/x-python",
   "name": "python",
   "nbconvert_exporter": "python",
   "pygments_lexer": "ipython2",
   "version": "2.7.11"
  }
 },
 "nbformat": 4,
 "nbformat_minor": 0
}
